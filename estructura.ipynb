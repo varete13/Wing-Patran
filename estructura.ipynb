{
 "cells": [
  {
   "cell_type": "code",
   "execution_count": 1,
   "id": "a94a6e8b",
   "metadata": {},
   "outputs": [],
   "source": [
    "import numpy as np\n",
    "import matplotlib.pyplot as plt\n",
    "\n",
    "from typing import Literal"
   ]
  },
  {
   "cell_type": "code",
   "execution_count": 2,
   "id": "74da8131",
   "metadata": {},
   "outputs": [],
   "source": [
    "class NACAProfile:\n",
    "    NUMBER_POINTS = 15\n",
    "\n",
    "    def __init__(self, name: str,distribution:Literal['Standard','Logarithmic']='Standard'):\n",
    "        if len(name) == 4 and name.isdigit():\n",
    "            self.name = 'NACA ' + name\n",
    "            self.t = int(name[2:]) / 100\n",
    "            self.m = int(name[0]) / 100\n",
    "            self.p = int(name[1]) / 10\n",
    "            self.distribution=distribution\n",
    "\n",
    "    def yt(self, x):\n",
    "        return 5 * self.t * (0.2969 * np.sqrt(x) - 0.1260 * x - 0.3516 * x**2 + 0.2843 * x**3 - 0.1015 * x**4)\n",
    "\n",
    "    def yc(self, x):\n",
    "        x = np.asarray(x)\n",
    "        yc = np.where(\n",
    "            x < self.p,\n",
    "            self.m / self.p**2 * (2 * self.p * x - x**2),\n",
    "            self.m / (1 - self.p)**2 * ((1 - 2 * self.p) + 2 * self.p * x - x**2)\n",
    "        )\n",
    "        return yc\n",
    "\n",
    "    def theta(self, x):\n",
    "        x = np.asarray(x)\n",
    "        dyc_dx = np.where(\n",
    "            x < self.p,\n",
    "            2 * self.m / self.p**2 * (self.p - x),\n",
    "            2 * self.m / (1 - self.p)**2 * (self.p - x)\n",
    "        )\n",
    "        return np.arctan(dyc_dx)\n",
    "\n",
    "    def contour(self):\n",
    "        if self.distribution == 'Standard':\n",
    "            x = np.linspace(0, 1, self.NUMBER_POINTS)\n",
    "        else:\n",
    "            x = np.logspace(-2, 0, self.NUMBER_POINTS)\n",
    "            x[0] = 0.0  # Ensure the first point is exactly 0\n",
    "        \n",
    "        yt = self.yt(x)\n",
    "        yc = self.yc(x)\n",
    "        theta = self.theta(x)\n",
    "\n",
    "        xu = x - yt * np.sin(theta)\n",
    "        yu = yc + yt * np.cos(theta)\n",
    "        xl = x + yt * np.sin(theta)\n",
    "        yl = yc - yt * np.cos(theta)\n",
    "\n",
    "        # Concatenate upper and lower surfaces for plotting\n",
    "        x_coords = np.concatenate([xu[:-1], xl[::-1]])\n",
    "        y_coords = np.concatenate([yu[:-1], yl[::-1]])\n",
    "        return x_coords, y_coords"
   ]
  },
  {
   "cell_type": "code",
   "execution_count": null,
   "id": "3f695ff8",
   "metadata": {},
   "outputs": [],
   "source": [
    "class ALA:\n",
    "    def __init__(self,\n",
    "    envergdura:int=20,\n",
    "    profile_map:dict[float,float]={0:2442,1:2442},\n",
    "    chord_map:dict[float,float]={0:6,1:0.5},\n",
    "    angle_map:dict[float,float]={0:2},\n",
    "    flinge_map:dict[float,float]={0:0,1:0.6},):\n",
    "        self.envergdura=envergdura\n",
    "        self.profile_map=profile_map\n",
    "        self.chord_map=chord_map\n",
    "        self.angle_map=angle_map\n",
    "        self.flinge_map=flinge_map\n"
   ]
  },
  {
   "cell_type": "code",
   "execution_count": 5,
   "id": "06972846",
   "metadata": {},
   "outputs": [
    {
     "data": {
      "text/plain": [
       "(np.float64(-0.049995809302337005),\n",
       " np.float64(1.049911995349077),\n",
       " np.float64(-0.04844818569209759),\n",
       " np.float64(0.08517125519006227))"
      ]
     },
     "execution_count": 5,
     "metadata": {},
     "output_type": "execute_result"
    },
    {
     "data": {
      "image/png": "[encoded data removed]",
      "text/plain": [
       "<Figure size 640x480 with 1 Axes>"
      ]
     },
     "metadata": {},
     "output_type": "display_data"
    }
   ],
   "source": [
    "ALA=NACAProfile('2412')\n",
    "x,y=ALA.contour()\n",
    "plt.scatter(x,y)\n",
    "plt.axis('equal')"
   ]
  },
  {
   "cell_type": "code",
   "execution_count": null,
   "id": "9aac4261",
   "metadata": {},
   "outputs": [],
   "source": []
  }
 ],
 "metadata": {
  "kernelspec": {
   "display_name": "voando",
   "language": "python",
   "name": "python3"
  },
  "language_info": {
   "codemirror_mode": {
    "name": "ipython",
    "version": 3
   },
   "file_extension": ".py",
   "mimetype": "text/x-python",
   "name": "python",
   "nbconvert_exporter": "python",
   "pygments_lexer": "ipython3",
   "version": "3.12.3"
  }
 },
 "nbformat": 4,
 "nbformat_minor": 5
}
